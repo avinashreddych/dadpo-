{
 "cells": [
  {
   "cell_type": "code",
   "execution_count": 1,
   "metadata": {},
   "outputs": [],
   "source": [
    "from datasets import load_dataset, Dataset\n",
    "import pandas as pd\n",
    "\n",
    "\n",
    "full_dataset_train = load_dataset(\"PKU-Alignment/PKU-SafeRLHF-30k\", split=\"train\")\n",
    "\n",
    "full_dataset_test = load_dataset(\"PKU-Alignment/PKU-SafeRLHF-30k\", split=\"test\")"
   ]
  },
  {
   "cell_type": "code",
   "execution_count": 2,
   "metadata": {},
   "outputs": [],
   "source": [
    "def get_harmhelp_df(dataset :  Dataset):\n",
    "    df = dataset.to_pandas()\n",
    "    rows = []\n",
    "    for idx, row in df.iterrows():\n",
    "        if row[\"is_response_0_safe\"] ==  False and row[\"is_response_1_safe\"] == False:\n",
    "            if row[\"better_response_id\"] == 0:\n",
    "                rows.append({\n",
    "                    \"prompt\" : row[\"prompt\"],\n",
    "                    \"chosen\": row[\"response_0\"],\n",
    "                    \"rejected\" : row[\"response_1\"],\n",
    "                    \"flag\" : \"unsafe-unsafe\"\n",
    "                })\n",
    "            \n",
    "            else:\n",
    "                rows.append({\n",
    "                    \"prompt\" : row[\"prompt\"],\n",
    "                    \"chosen\": row[\"response_1\"],\n",
    "                    \"rejected\" : row[\"response_0\"],\n",
    "                    \"flag\" : \"unsafe-unsafe\"\n",
    "                })\n",
    "    harmful_df = pd.DataFrame(rows)\n",
    "    rows = []\n",
    "    for idx, row in df.iterrows():\n",
    "        if row[\"is_response_0_safe\"] ==  True and row[\"is_response_1_safe\"] ==  False and  row[\"better_response_id\"] == 1:\n",
    "                rows.append({\n",
    "                    \"prompt\" : row[\"prompt\"],\n",
    "                    \"chosen\": row[\"response_0\"],\n",
    "                    \"rejected\" : row[\"response_1\"],\n",
    "                    \"flag\" : \"safe-unsafe\"\n",
    "                })\n",
    "        if row[\"is_response_0_safe\"] ==  False and row[\"is_response_1_safe\"] ==  True and  row[\"better_response_id\"] == 0:\n",
    "            rows.append({\n",
    "                    \"prompt\" : row[\"prompt\"],\n",
    "                    \"chosen\": row[\"response_1\"],\n",
    "                    \"rejected\" : row[\"response_0\"],\n",
    "                    \"flag\" : \"safe-unsafe\"\n",
    "                })\n",
    "\n",
    "    helpful_df  = pd.DataFrame(rows)\n",
    "    print(len(harmful_df) , len(helpful_df))\n",
    "    return pd.concat([harmful_df, helpful_df], axis=0)\n",
    "    \n",
    "    \n",
    "    \n",
    "    "
   ]
  },
  {
   "cell_type": "code",
   "execution_count": 3,
   "metadata": {},
   "outputs": [
    {
     "name": "stdout",
     "output_type": "stream",
     "text": [
      "12934 3117\n",
      "1368 355\n"
     ]
    }
   ],
   "source": [
    "train_df = get_harmhelp_df(full_dataset_train)\n",
    "test_df= get_harmhelp_df(full_dataset_test)"
   ]
  },
  {
   "cell_type": "code",
   "execution_count": 4,
   "metadata": {},
   "outputs": [],
   "source": [
    "train_df.to_csv(\"reward_train_data-new.csv\", index=False)\n",
    "test_df.to_csv(\"reward_test_data-new.csv\", index= False)"
   ]
  },
  {
   "cell_type": "code",
   "execution_count": null,
   "metadata": {},
   "outputs": [],
   "source": []
  }
 ],
 "metadata": {
  "kernelspec": {
   "display_name": "env",
   "language": "python",
   "name": "python3"
  },
  "language_info": {
   "codemirror_mode": {
    "name": "ipython",
    "version": 3
   },
   "file_extension": ".py",
   "mimetype": "text/x-python",
   "name": "python",
   "nbconvert_exporter": "python",
   "pygments_lexer": "ipython3",
   "version": "3.10.12"
  }
 },
 "nbformat": 4,
 "nbformat_minor": 2
}
