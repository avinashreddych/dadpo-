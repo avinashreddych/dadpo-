{
 "cells": [
  {
   "cell_type": "code",
   "execution_count": 14,
   "metadata": {},
   "outputs": [],
   "source": [
    "from datasets import load_dataset\n",
    "import pandas as pd\n",
    "\n",
    "full_dataset_train = load_dataset(\"PKU-Alignment/PKU-SafeRLHF\", split=\"train\")\n",
    "\n",
    "full_dataset_test = load_dataset(\"PKU-Alignment/PKU-SafeRLHF\", split=\"test\")\n",
    "\n",
    "full_dataset_train = full_dataset_train.to_pandas()\n",
    "full_dataset_test = full_dataset_test.to_pandas()"
   ]
  },
  {
   "cell_type": "code",
   "execution_count": 17,
   "metadata": {},
   "outputs": [],
   "source": [
    "def give_chosen_rejectd(dataset: pd.DataFrame):\n",
    "    required_rows = []\n",
    "\n",
    "    for indx, row in dataset.iterrows():\n",
    "        if row[\"is_response_0_safe\"] == True and row[\"is_response_1_safe\"] == False:\n",
    "            required_rows.append(\n",
    "                {\n",
    "                    \"prompt\": row[\"prompt\"],\n",
    "                    \"chosen\": row[\"response_0\"],\n",
    "                    \"rejected\": row[\"response_1\"],\n",
    "                }\n",
    "            )\n",
    "            continue\n",
    "        if row[\"is_response_0_safe\"] == False and row[\"is_response_1_safe\"] == True:\n",
    "            required_rows.append(\n",
    "                {\n",
    "                    \"prompt\": row[\"prompt\"],\n",
    "                    \"chosen\": row[\"response_1\"],\n",
    "                    \"rejected\": row[\"response_0\"],\n",
    "                }\n",
    "            )\n",
    "            continue\n",
    "    \n",
    "    return pd.DataFrame(required_rows)"
   ]
  },
  {
   "cell_type": "code",
   "execution_count": 18,
   "metadata": {},
   "outputs": [],
   "source": [
    "harmless_train_data = give_chosen_rejectd(full_dataset_train)\n",
    "\n",
    "harmless_test_data = give_chosen_rejectd(full_dataset_test)"
   ]
  },
  {
   "cell_type": "code",
   "execution_count": 21,
   "metadata": {},
   "outputs": [],
   "source": [
    "harmless_train_data.to_csv(\"harmless_train_data.csv\")\n",
    "\n",
    "harmless_test_data.to_csv(\"harmless_test_data.csv\")"
   ]
  },
  {
   "cell_type": "code",
   "execution_count": null,
   "metadata": {},
   "outputs": [],
   "source": []
  }
 ],
 "metadata": {
  "kernelspec": {
   "display_name": "env",
   "language": "python",
   "name": "python3"
  },
  "language_info": {
   "codemirror_mode": {
    "name": "ipython",
    "version": 3
   },
   "file_extension": ".py",
   "mimetype": "text/x-python",
   "name": "python",
   "nbconvert_exporter": "python",
   "pygments_lexer": "ipython3",
   "version": "3.10.12"
  }
 },
 "nbformat": 4,
 "nbformat_minor": 2
}
