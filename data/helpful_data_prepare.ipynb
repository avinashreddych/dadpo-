{
 "cells": [
  {
   "cell_type": "code",
   "execution_count": 1,
   "metadata": {},
   "outputs": [
    {
     "name": "stderr",
     "output_type": "stream",
     "text": [
      "/home/v-labs-ai-hpc-server/env/lib/python3.10/site-packages/tqdm/auto.py:21: TqdmWarning: IProgress not found. Please update jupyter and ipywidgets. See https://ipywidgets.readthedocs.io/en/stable/user_install.html\n",
      "  from .autonotebook import tqdm as notebook_tqdm\n"
     ]
    }
   ],
   "source": [
    "from datasets import load_dataset\n",
    "\n",
    "\n",
    "full_dataset_train = load_dataset(\"PKU-Alignment/PKU-SafeRLHF\", split=\"train\")\n",
    "\n",
    "full_dataset_test = load_dataset(\"PKU-Alignment/PKU-SafeRLHF\", split=\"test\")"
   ]
  },
  {
   "cell_type": "code",
   "execution_count": 2,
   "metadata": {},
   "outputs": [],
   "source": [
    "full_dataset_train = full_dataset_train.to_pandas()\n",
    "full_dataset_test = full_dataset_test.to_pandas()"
   ]
  },
  {
   "cell_type": "code",
   "execution_count": 5,
   "metadata": {},
   "outputs": [],
   "source": [
    "def chosen(sample):\n",
    "    if sample[\"better_response_id\"] == 0:\n",
    "        return sample[\"response_0\"]\n",
    "    else:\n",
    "        return sample[\"response_1\"]\n",
    "\n",
    "\n",
    "def rejected(sample):\n",
    "    if sample[\"better_response_id\"] == 0:\n",
    "        return sample[\"response_1\"]\n",
    "    else:\n",
    "        return sample[\"response_0\"]"
   ]
  },
  {
   "cell_type": "code",
   "execution_count": 38,
   "metadata": {},
   "outputs": [],
   "source": [
    "full_dataset_train[\"chosen\"] = full_dataset_train.apply(chosen, axis=1)\n",
    "\n",
    "full_dataset_train[\"rejected\"] = full_dataset_train.apply(rejected, axis=1)\n",
    "\n",
    "full_dataset_test[\"chosen\"] = full_dataset_test.apply(chosen, axis=1)\n",
    "\n",
    "full_dataset_test[\"rejected\"] = full_dataset_test.apply(rejected, axis=1)"
   ]
  },
  {
   "cell_type": "code",
   "execution_count": 7,
   "metadata": {},
   "outputs": [],
   "source": [
    "full_dataset_train = full_dataset_train[[\"prompt\", \"chosen\", \"rejected\"]]\n",
    "full_dataset_test = full_dataset_test[[\"prompt\", \"chosen\", \"rejected\"]]"
   ]
  },
  {
   "cell_type": "code",
   "execution_count": 10,
   "metadata": {},
   "outputs": [],
   "source": [
    "full_dataset_train.to_csv(\"helpful_train_data.csv\")\n",
    "full_dataset_test.to_csv(\"helpful_test_data.csv\")"
   ]
  },
  {
   "cell_type": "code",
   "execution_count": 5,
   "metadata": {},
   "outputs": [],
   "source": [
    "import torch\n",
    "import torch.nn as nn"
   ]
  },
  {
   "cell_type": "code",
   "execution_count": 4,
   "metadata": {},
   "outputs": [],
   "source": [
    "chosen = torch.randn([48,1])\n",
    "rejected = torch.randn([48,1])"
   ]
  },
  {
   "cell_type": "code",
   "execution_count": 8,
   "metadata": {},
   "outputs": [],
   "source": [
    "loss = -nn.functional.logsigmoid(chosen - rejected) - torch.abs(chosen) - torch.abs(rejected)\n"
   ]
  },
  {
   "cell_type": "code",
   "execution_count": 10,
   "metadata": {},
   "outputs": [
    {
     "data": {
      "text/plain": [
       "tensor(-0.5222)"
      ]
     },
     "execution_count": 10,
     "metadata": {},
     "output_type": "execute_result"
    }
   ],
   "source": [
    "loss.mean()"
   ]
  },
  {
   "cell_type": "code",
   "execution_count": null,
   "metadata": {},
   "outputs": [],
   "source": []
  }
 ],
 "metadata": {
  "kernelspec": {
   "display_name": "env",
   "language": "python",
   "name": "python3"
  },
  "language_info": {
   "codemirror_mode": {
    "name": "ipython",
    "version": 3
   },
   "file_extension": ".py",
   "mimetype": "text/x-python",
   "name": "python",
   "nbconvert_exporter": "python",
   "pygments_lexer": "ipython3",
   "version": "3.10.12"
  }
 },
 "nbformat": 4,
 "nbformat_minor": 2
}
